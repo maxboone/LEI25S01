{
 "cells": [
  {
   "cell_type": "markdown",
   "metadata": {
    "id": "Ysi7m4vvxpxk"
   },
   "source": [
    "In this assignment, you will experiment with the NYC Cab dataset from 2016. This dataset provides information (e.g., pickup/dropoff time, # of passengers, trip distance, fare) about cab trips done in New York City during 2016. You can learn more about the dataset clicking [here!](https://www1.nyc.gov/site/tlc/about/tlc-trip-record-data.page)\n",
    "\n",
    "You will load this dataset into pandas, sqlite, and duckdb. You will compare the performance of multiple data-science like queries, including performing a fare estimation (i.e., predicting how much a ride will cost depending on distance) using machine learning.\n",
    "\n",
    "In the first section you will implement the loader in duckdb **[5 points].**\n",
    "\n",
    "The second section has two data-science like queries, the implementation in pandas is already given, and you should use it as a logical/correctness reference to write the queries for sqlite and duckdb, remember to compare the performance of the three different systems **[10 + 15 = 25 points]**.\n",
    "\n",
    "Finally, in the third section you will implement a simple machine learning algorithm in duckdb to predict fare costs. A full implementation of pandas is given and a partial of sqlite. Again, use them as a logical/correctness reference and compare the performance of the three different systems. **[40 points]**\n",
    "\n",
    "Remember to submit your notebook with the answers to all sections as well as a PDF document (max two papes) listing all experienced execution times and reasoning about the performance difference in these systems."
   ]
  },
  {
   "cell_type": "markdown",
   "metadata": {
    "id": "x4UIW8GUQaqt"
   },
   "source": [
    "# **SETUP**"
   ]
  },
  {
   "cell_type": "markdown",
   "metadata": {
    "id": "XXvRwAVPGtiX"
   },
   "source": [
    "First we need to install duckdb."
   ]
  },
  {
   "cell_type": "code",
   "execution_count": 1,
   "metadata": {
    "id": "IFC0Acb9Gu8W"
   },
   "outputs": [
    {
     "name": "stdout",
     "output_type": "stream",
     "text": [
      "Requirement already satisfied: duckdb in /opt/conda/lib/python3.11/site-packages (1.1.2)\n"
     ]
    }
   ],
   "source": [
    "!pip install duckdb --upgrade"
   ]
  },
  {
   "cell_type": "markdown",
   "metadata": {
    "id": "XDQF0N7HJIQ_"
   },
   "source": [
    "Now we download the NYC Cab dataset as Parquet file."
   ]
  },
  {
   "cell_type": "code",
   "execution_count": 2,
   "metadata": {
    "id": "9RXn51F_JMpn"
   },
   "outputs": [
    {
     "name": "stdout",
     "output_type": "stream",
     "text": [
      "--2024-10-20 09:46:07--  https://d37ci6vzurychx.cloudfront.net/trip-data/yellow_tripdata_2016-01.parquet\n",
      "Resolving d37ci6vzurychx.cloudfront.net (d37ci6vzurychx.cloudfront.net)... 99.86.122.150, 99.86.122.8, 99.86.122.230, ...\n",
      "Connecting to d37ci6vzurychx.cloudfront.net (d37ci6vzurychx.cloudfront.net)|99.86.122.150|:443... connected.\n",
      "HTTP request sent, awaiting response... 200 OK\n",
      "Length: 151251087 (144M) [application/x-www-form-urlencoded]\n",
      "Saving to: ‘yellow_tripdata_2016-01.parquet.1’\n",
      "\n",
      "yellow_tripdata_201 100%[===================>] 144.24M   331MB/s    in 0.4s    \n",
      "\n",
      "2024-10-20 09:46:08 (331 MB/s) - ‘yellow_tripdata_2016-01.parquet.1’ saved [151251087/151251087]\n",
      "\n"
     ]
    }
   ],
   "source": [
    "!wget \"https://d37ci6vzurychx.cloudfront.net/trip-data/yellow_tripdata_2016-01.parquet\""
   ]
  },
  {
   "cell_type": "markdown",
   "metadata": {
    "id": "ryMJZSckLmqG"
   },
   "source": [
    "# **Loading The Data** [5pts]"
   ]
  },
  {
   "cell_type": "markdown",
   "metadata": {
    "id": "EJSvVxkOL6af"
   },
   "source": [
    "In this section your goal is to write code to load the data in duckdb.\n",
    "\n",
    "First, run the code to load the data into Pandas and SQLite as provided:\n"
   ]
  },
  {
   "cell_type": "code",
   "execution_count": 3,
   "metadata": {
    "id": "nBPmYEMLNQ63"
   },
   "outputs": [
    {
     "name": "stdout",
     "output_type": "stream",
     "text": [
      "\n",
      "Pandas:\n",
      "10905067\n",
      "         VendorID tpep_pickup_datetime tpep_dropoff_datetime  passenger_count  \\\n",
      "2776571         1  2016-01-09 02:43:13   2016-01-09 02:51:31                3   \n",
      "\n",
      "         trip_distance  RatecodeID store_and_fwd_flag  PULocationID  \\\n",
      "2776571            1.1           1                  N           141   \n",
      "\n",
      "         DOLocationID  payment_type  fare_amount  extra  mta_tax  tip_amount  \\\n",
      "2776571           163             1          7.5    0.5      0.5         0.0   \n",
      "\n",
      "         tolls_amount  improvement_surcharge  total_amount  \\\n",
      "2776571           0.0                    0.3           8.8   \n",
      "\n",
      "        congestion_surcharge airport_fee  \n",
      "2776571                 None        None  \n",
      "\n",
      "SQLite:\n",
      "[(10905067,)]\n",
      "[(1, '2016-01-01T00:12:22', '2016-01-01T00:29:14', 1, 3.2, 1, 'N', 48, 262, 1, 14.0, 0.5, 0.5, 3.06, 0.0, 0.3, 18.36, None, None)]\n"
     ]
    }
   ],
   "source": [
    "import pandas\n",
    "import sqlite3\n",
    "\n",
    "\n",
    "print('\\nPandas:')\n",
    "\n",
    "# Creates Pandas Dataframe from Parquet\n",
    "yellow_tripdata_pandas = pandas.read_parquet('yellow_tripdata_2016-01.parquet')\n",
    "\n",
    "print(len(yellow_tripdata_pandas))\n",
    "print(yellow_tripdata_pandas.sample(n=1))\n",
    "\n",
    "\n",
    "print('\\nSQLite:')\n",
    "\n",
    "# Generates SQLite database and load data from Pandas Dataframe into table\n",
    "db_sqlite = sqlite3.connect('yellow_tripdate_sqlite.db')\n",
    "yellow_tripdata_pandas.to_sql('yellow_tripdata_2016_01', db_sqlite, index=False)\n",
    "\n",
    "sqlite_cursor = db_sqlite.cursor() # Creates a Cursor, that allows us to issue SQL Stataments\n",
    "print(sqlite_cursor.execute(\"SELECT count(*) FROM yellow_tripdata_2016_01\").fetchall())\n",
    "print(sqlite_cursor.execute(\"SELECT * FROM yellow_tripdata_2016_01 LIMIT 1\").fetchall())"
   ]
  },
  {
   "cell_type": "markdown",
   "metadata": {
    "id": "YKAtnEB2PuCp"
   },
   "source": [
    "How do we load data in DuckDB? https://duckdb.org/docs/data/overview https://duckdb.org/docs/data/parquet\n",
    "\n"
   ]
  },
  {
   "cell_type": "code",
   "execution_count": 4,
   "metadata": {
    "id": "ejriXVhQP1X2"
   },
   "outputs": [
    {
     "name": "stdout",
     "output_type": "stream",
     "text": [
      "\n",
      "DuckDB:\n",
      "[(10905067,)]\n",
      "[(1, datetime.datetime(2016, 1, 1, 0, 12, 22), datetime.datetime(2016, 1, 1, 0, 29, 14), 1, 3.2, 1, 'N', 48, 262, 1, 14.0, 0.5, 0.5, 3.06, 0.0, 0.3, 18.36, None, None)]\n"
     ]
    }
   ],
   "source": [
    "import duckdb\n",
    "import time\n",
    "\n",
    "\n",
    "print('\\nDuckDB:')\n",
    "\n",
    "db = duckdb.connect('yellow_tripdata_duck.db')\n",
    "duck_cursor = db.cursor()\n",
    "\n",
    "# Replace '...' below with your DuckDB SQL query !\n",
    "sql_load = \"\"\"\n",
    "CREATE TABLE yellow_tripdata_2016_01 AS SELECT * FROM 'yellow_tripdata_2016-01.parquet'\n",
    "\"\"\"\n",
    "# Replace '...' above with your DuckDB SQL query !\n",
    "\n",
    "duck_cursor.execute(sql_load)\n",
    "\n",
    "print(duck_cursor.execute(\"SELECT count(*) FROM yellow_tripdata_2016_01\").fetchall())\n",
    "print(duck_cursor.execute(\"SELECT * FROM yellow_tripdata_2016_01 LIMIT 1\").fetchall())"
   ]
  },
  {
   "cell_type": "markdown",
   "metadata": {
    "id": "vyDSVNG1TmPi"
   },
   "source": [
    "# **Queries** [25 pts]"
   ]
  },
  {
   "cell_type": "markdown",
   "metadata": {
    "id": "W4wqtjzlT30T"
   },
   "source": [
    "**Query Q1 [10 pts]**: Count distinct values for each column.\n",
    "\n",
    "**TIP:** We provide you with the pandas implementation, be sure to use it to check for correctness!\n",
    "\n",
    "In the first query we want to compare the performance of a simple hash-function in our Database Management Systems (DBMSs). To do so, we implement and run a query that counts the distinct values for each column.\n",
    "In general, most systems use hash-based algorithms to find the distinct values in a large set of values (e.g., a database column).\n",
    "Obs: Sort-based algorithm are an alternative but usually slower.\n"
   ]
  },
  {
   "cell_type": "code",
   "execution_count": 5,
   "metadata": {
    "id": "sy7O9XS0T9kJ"
   },
   "outputs": [
    {
     "name": "stdout",
     "output_type": "stream",
     "text": [
      "Results:\n",
      "\n",
      "Pandas:\n",
      "2 2368538 2372446 10 4512 7 2 261 262 5 1862 35 15 3550 939 3 11158 0 0\n",
      "\n",
      "SQLite:\n",
      "(2, 2368538, 2372446, 10, 4512, 7, 2, 261, 262, 5, 1862, 35, 15, 3550, 939, 3, 11158, 0, 0)\n",
      "\n",
      "DuckDB:\n",
      "[(2, 2368538, 2372446, 10, 4512, 7, 2, 261, 262, 5, 1862, 35, 15, 3550, 939, 3, 11158, 0, 0)]\n",
      "\n",
      "Times:\n",
      "Pandas: 4.109411716461182\n",
      "SQLite: 54.24093270301819\n",
      "DuckDB: 3.354879856109619\n"
     ]
    }
   ],
   "source": [
    "import time\n",
    "\n",
    "\n",
    "# SQL:\n",
    "# Replace '...' below with your SQL query (The same syntax works for both SQLite and DuckDB) !\n",
    "sql_01 = \"\"\"\n",
    "SELECT \n",
    "    COUNT(DISTINCT VendorID) AS VendorID,\n",
    "    COUNT(DISTINCT tpep_pickup_datetime) AS tpep_pickup_datetime,\n",
    "    COUNT(DISTINCT tpep_dropoff_datetime) AS tpep_dropoff_datetime,\n",
    "    COUNT(DISTINCT passenger_count) AS passenger_count,\n",
    "    COUNT(DISTINCT trip_distance) AS trip_distance,\n",
    "    COUNT(DISTINCT RatecodeID) AS RatecodeID,\n",
    "    COUNT(DISTINCT store_and_fwd_flag) AS store_and_fwd_flag,\n",
    "    COUNT(DISTINCT PULocationID) AS PULocationID,\n",
    "    COUNT(DISTINCT DOLocationID) AS DOLocationID,\n",
    "    COUNT(DISTINCT payment_type) AS payment_type,\n",
    "    COUNT(DISTINCT fare_amount) AS fare_amount,\n",
    "    COUNT(DISTINCT extra) AS extra,\n",
    "    COUNT(DISTINCT mta_tax) AS mta_tax,\n",
    "    COUNT(DISTINCT tip_amount) AS tip_amount,\n",
    "    COUNT(DISTINCT tolls_amount) AS tolls_amount,\n",
    "    COUNT(DISTINCT improvement_surcharge) AS improvement_surcharge,\n",
    "    COUNT(DISTINCT total_amount) AS total_amount,\n",
    "    COUNT(DISTINCT congestion_surcharge) AS congestion_surcharge,\n",
    "    COUNT(DISTINCT airport_fee) AS airport_fee \n",
    "FROM yellow_tripdata_2016_01;\n",
    "\"\"\"\n",
    "# Replace '...' above with your SQL query (The same syntax works for both SQLite and DuckDB) !\n",
    "\n",
    "\n",
    "# Pandas:\n",
    "def query_01_pandas():\n",
    "  print('\\nPandas:')\n",
    "  print(\n",
    "    yellow_tripdata_pandas['VendorID'].nunique(),\n",
    "    yellow_tripdata_pandas['tpep_pickup_datetime'].nunique(),\n",
    "    yellow_tripdata_pandas['tpep_dropoff_datetime'].nunique(),\n",
    "    yellow_tripdata_pandas['passenger_count'].nunique(),\n",
    "    yellow_tripdata_pandas['trip_distance'].nunique(),\n",
    "    yellow_tripdata_pandas['RatecodeID'].nunique(),\n",
    "    yellow_tripdata_pandas['store_and_fwd_flag'].nunique(),\n",
    "    yellow_tripdata_pandas['PULocationID'].nunique(),\n",
    "    yellow_tripdata_pandas['DOLocationID'].nunique(),\n",
    "    yellow_tripdata_pandas['payment_type'].nunique(),\n",
    "    yellow_tripdata_pandas['fare_amount'].nunique(),\n",
    "    yellow_tripdata_pandas['extra'].nunique(),\n",
    "    yellow_tripdata_pandas['mta_tax'].nunique(),\n",
    "    yellow_tripdata_pandas['tip_amount'].nunique(),\n",
    "    yellow_tripdata_pandas['tolls_amount'].nunique(),\n",
    "    yellow_tripdata_pandas['improvement_surcharge'].nunique(),\n",
    "    yellow_tripdata_pandas['total_amount'].nunique(),\n",
    "    yellow_tripdata_pandas['congestion_surcharge'].nunique(),\n",
    "    yellow_tripdata_pandas['airport_fee'].nunique()\n",
    "  )\n",
    "\n",
    "\n",
    "# SQLite:\n",
    "def query_01_sqlite():\n",
    "    print('\\nSQLite:')\n",
    "    sqlite_cursor.execute(sql_01)\n",
    "    result = sqlite_cursor.fetchone()\n",
    "    print(result)\n",
    "\n",
    "\n",
    "# DuckDB:\n",
    "def query_01_duckdb():\n",
    "    print('\\nDuckDB:')\n",
    "    duck_cursor.execute(sql_01)\n",
    "    result = duck_cursor.fetchall()\n",
    "    print(result)\n",
    "\n",
    "\n",
    "print('Results:')\n",
    "\n",
    "start = time.time()\n",
    "query_01_pandas()\n",
    "time_pandas = time.time() - start\n",
    "\n",
    "start = time.time()\n",
    "query_01_sqlite()\n",
    "time_sqlite = time.time() - start\n",
    "\n",
    "start = time.time()\n",
    "query_01_duckdb()\n",
    "time_duckdb = time.time() - start\n",
    "\n",
    "print('\\nTimes:')\n",
    "print('Pandas: ' + str(time_pandas))\n",
    "print('SQLite: ' + str(time_sqlite))\n",
    "print('DuckDB: ' + str(time_duckdb))"
   ]
  },
  {
   "cell_type": "markdown",
   "metadata": {
    "id": "AnE6A2olT954"
   },
   "source": [
    "\n",
    "\n",
    "In our second query, we want to compare the performance of the aggregation/grouping functions.\n",
    "**Query Q2 [15 pts]**: What's the avg/max/min frequency of events grouped by day and hour? (Recall that each record in the data set represents one event.)\n",
    "\n",
    "**TIP_1** : Start by writing a subquery that groups the data by Day/Hour and counts all events.\n",
    "\n",
    "For duckdb:\n",
    "EXTRACT(DOY FROM tpep_pickup_datetime), EXTRACT(HOUR FROM tpep_pickup_datetime)\n",
    "\n",
    "For Sqlite:\n",
    "strftime('%j', tpep_pickup_datetime), strftime('%H', tpep_pickup_datetime) for\n",
    "\n",
    "**TIP_2**: After writing the subquery, get the avg, min and max values of it\n",
    "\n",
    "For your convenience, we already provide the Pandas implementation, remember to use it for correctness/logic purposes."
   ]
  },
  {
   "cell_type": "code",
   "execution_count": 6,
   "metadata": {
    "id": "oypnNM8qZel2"
   },
   "outputs": [
    {
     "name": "stdout",
     "output_type": "stream",
     "text": [
      "Results:\n",
      "\n",
      "Pandas:\n"
     ]
    },
    {
     "name": "stderr",
     "output_type": "stream",
     "text": [
      "/tmp/ipykernel_696/396752060.py:37: SettingWithCopyWarning: \n",
      "A value is trying to be set on a copy of a slice from a DataFrame.\n",
      "Try using .loc[row_indexer,col_indexer] = value instead\n",
      "\n",
      "See the caveats in the documentation: https://pandas.pydata.org/pandas-docs/stable/user_guide/indexing.html#returning-a-view-versus-a-copy\n",
      "  df['day'] = pandas.to_datetime(df['tpep_pickup_datetime'], format='%Y-%m-%d %H:%M:%S').dt.day\n",
      "/tmp/ipykernel_696/396752060.py:38: SettingWithCopyWarning: \n",
      "A value is trying to be set on a copy of a slice from a DataFrame.\n",
      "Try using .loc[row_indexer,col_indexer] = value instead\n",
      "\n",
      "See the caveats in the documentation: https://pandas.pydata.org/pandas-docs/stable/user_guide/indexing.html#returning-a-view-versus-a-copy\n",
      "  df['hour'] = pandas.to_datetime(df['tpep_pickup_datetime'], format='%Y-%m-%d %H:%M:%S').dt.hour\n"
     ]
    },
    {
     "name": "stdout",
     "output_type": "stream",
     "text": [
      "8 14657.34811827957 28511\n",
      "\n",
      "SQLite:\n",
      "[(8, 14657.34811827957, 28511)]\n",
      "\n",
      "DuckDB:\n",
      "[(8, 14657.34811827957, 28511)]\n",
      "\n",
      "Times:\n",
      "Pandas: 1.3242485523223877\n",
      "SQLite: 17.844773292541504\n",
      "DuckDB: 0.16159605979919434\n"
     ]
    }
   ],
   "source": [
    "# SQLite SQL:\n",
    "# Replace '...' below with your SQLite SQL query !\n",
    "sql_02_sqlite = \"\"\"\n",
    "SELECT MIN(trips), AVG(trips), MAX(trips) \n",
    "FROM (\n",
    "    SELECT \n",
    "        strftime('%j', tpep_pickup_datetime) AS day, \n",
    "        strftime('%H', tpep_pickup_datetime) AS hour, \n",
    "        COUNT(VendorID) AS trips \n",
    "    FROM yellow_tripdata_2016_01 \n",
    "    GROUP BY day, hour\n",
    ");\n",
    "\"\"\"\n",
    "# Replace '...' above with your SQLite SQL query !\n",
    "\n",
    "\n",
    "# DuckDB SQL:\n",
    "# Replace '...' below with your DuckDB SQL query !\n",
    "sql_02_duckdb = \"\"\"\n",
    "SELECT MIN(trips), AVG(trips), MAX(trips) \n",
    "FROM (\n",
    "    SELECT \n",
    "        EXTRACT(DAY FROM tpep_pickup_datetime) AS day, \n",
    "        EXTRACT(HOUR FROM tpep_pickup_datetime) AS hour, \n",
    "        COUNT(VendorID) AS trips \n",
    "    FROM yellow_tripdata_2016_01 \n",
    "    GROUP BY day, hour\n",
    ");\n",
    "\"\"\"\n",
    "# Replace '...' above with your DuckDB SQL query !\n",
    "\n",
    "\n",
    "# Pandas:\n",
    "def query_02_pandas():\n",
    "    print('\\nPandas:')\n",
    "    df = yellow_tripdata_pandas[[\"VendorID\", \"tpep_pickup_datetime\"]]\n",
    "    df['day'] = pandas.to_datetime(df['tpep_pickup_datetime'], format='%Y-%m-%d %H:%M:%S').dt.day\n",
    "    df['hour'] = pandas.to_datetime(df['tpep_pickup_datetime'], format='%Y-%m-%d %H:%M:%S').dt.hour\n",
    "    res = df.groupby(['day', 'hour']).agg({'VendorID': 'count'})\n",
    "    print(res[\"VendorID\"].min(),res[\"VendorID\"].mean(),res[\"VendorID\"].max())\n",
    "\n",
    "\n",
    "# SQLite:\n",
    "def query_02_sqlite():\n",
    "    print('\\nSQLite:')\n",
    "    sqlite_cursor.execute(sql_02_sqlite)\n",
    "    result = sqlite_cursor.fetchall()\n",
    "    print(result)\n",
    "\n",
    "\n",
    "# DuckDB:\n",
    "def query_02_duckdb():\n",
    "    print('\\nDuckDB:')\n",
    "    duck_cursor.execute(sql_02_duckdb)\n",
    "    result = duck_cursor.fetchall()\n",
    "    print(result)\n",
    "\n",
    "\n",
    "print('Results:')\n",
    "\n",
    "start = time.time()\n",
    "query_02_pandas()\n",
    "time_pandas = time.time() - start\n",
    "\n",
    "start = time.time()\n",
    "query_02_sqlite()\n",
    "time_sqlite = time.time() - start\n",
    "\n",
    "start = time.time()\n",
    "query_02_duckdb()\n",
    "time_duckdb = time.time() - start\n",
    "\n",
    "print('\\nTimes:')\n",
    "print('Pandas: ' + str(time_pandas))\n",
    "print('SQLite: ' + str(time_sqlite))\n",
    "print('DuckDB: ' + str(time_duckdb))"
   ]
  },
  {
   "cell_type": "markdown",
   "metadata": {
    "id": "CqqmSeKvIN2L"
   },
   "source": [
    "# **Machine Learning : Fare Estimation** [40 pts]"
   ]
  },
  {
   "cell_type": "markdown",
   "metadata": {
    "id": "9-AA_rgyIYpI"
   },
   "source": [
    "Here you will need to use the data to do the most basic form of machine learning: [linear regression](https://en.wikipedia.org/wiki/Ordinary_least_squares#Simple_linear_regression_model). You can train a simple estimator that takes the trip distance and estimates the price. For this exercise we provide the linear regression using pandas. Your goal is to mimic the pandas computation in both SQLite and DuckDB, and compare the computation time until the calculation of linear regression's parameters alpha and beta **(Which must be the same in all three systems, i.e., alpha and beta calculated by SQLite and DuckDB must be the same as those calculated by Pandas; take this into consideration to check if your answer is correct)**."
   ]
  },
  {
   "cell_type": "code",
   "execution_count": 7,
   "metadata": {
    "id": "AR6hF_QgI3Y4"
   },
   "outputs": [
    {
     "data": {
      "text/plain": [
       "<Axes: xlabel='trip_distance', ylabel='fare_amount'>"
      ]
     },
     "execution_count": 7,
     "metadata": {},
     "output_type": "execute_result"
    },
    {
     "data": {
      "image/png": "[encoded data removed]",
      "text/plain": [
       "<Figure size 640x480 with 1 Axes>"
      ]
     },
     "metadata": {},
     "output_type": "display_data"
    }
   ],
   "source": [
    "cov_xy = (yellow_tripdata_pandas[\"trip_distance\"] * yellow_tripdata_pandas[\"fare_amount\"]).sum() - (\n",
    "    yellow_tripdata_pandas[\"trip_distance\"].sum() * yellow_tripdata_pandas[\"fare_amount\"].sum()\n",
    ") / len(yellow_tripdata_pandas)\n",
    "var_xy = (yellow_tripdata_pandas[\"trip_distance\"] ** 2).sum() - yellow_tripdata_pandas[\"trip_distance\"].sum() ** 2 / len(yellow_tripdata_pandas)\n",
    "beta = cov_xy / var_xy\n",
    "alpha = yellow_tripdata_pandas[\"fare_amount\"].mean() - beta * yellow_tripdata_pandas[\"trip_distance\"].mean()\n",
    "\n",
    "alpha\n",
    "# 12.486907739140417\n",
    "beta\n",
    "# 4.6752084884145456e-06\n",
    "\n",
    "# Select some sample data and see how well we can fit the price\n",
    "sample = yellow_tripdata_pandas.sample(10000)\n",
    "sample[\"price\"] = alpha + beta * sample[\"trip_distance\"]\n",
    "ax = sample.plot.scatter(x=\"trip_distance\", y=\"fare_amount\")\n",
    "sample.plot.line(x=\"trip_distance\", y=\"price\", ax=ax, color=\"red\")"
   ]
  },
  {
   "cell_type": "markdown",
   "metadata": {
    "id": "MSNgeIoyJeBN"
   },
   "source": [
    "As you can tell from the above image, as with any real life dataset, the New York City trip dataset also contains outliers that we need to clean to get a good regression. Hence we need to get rid of the noisy data that disturbs our basic regression example.\n",
    "\n",
    "**Note**: The pandas program above is merely to show the dirty data/outliers, consider the following one for the rest of this section."
   ]
  },
  {
   "cell_type": "code",
   "execution_count": 8,
   "metadata": {
    "id": "6SFDISlWJ01R"
   },
   "outputs": [
    {
     "name": "stdout",
     "output_type": "stream",
     "text": [
      "Alpha: 4.651616991535136\n",
      "Beta: 2.661441728292328\n",
      "ML Regression in Pandas: 2.446953058242798\n"
     ]
    },
    {
     "data": {
      "text/plain": [
       "<Axes: xlabel='trip_distance', ylabel='fare_amount'>"
      ]
     },
     "execution_count": 8,
     "metadata": {},
     "output_type": "execute_result"
    },
    {
     "data": {
      "image/png": "[encoded data removed]",
      "text/plain": [
       "<Figure size 640x480 with 1 Axes>"
      ]
     },
     "metadata": {},
     "output_type": "display_data"
    }
   ],
   "source": [
    "start = time.time()\n",
    "cap_fare = yellow_tripdata_pandas[\"fare_amount\"].mean() + 3 * yellow_tripdata_pandas[\"fare_amount\"].std()\n",
    "cap_distance = yellow_tripdata_pandas[\"trip_distance\"].mean() + 3 * yellow_tripdata_pandas[\"trip_distance\"].std()\n",
    "df_filtered = yellow_tripdata_pandas.query(\n",
    "    f\"trip_distance > 0 and trip_distance < {cap_distance} and fare_amount > 0 and fare_amount < {cap_fare}\"\n",
    ")\n",
    "\n",
    "# Train on the filtered data\n",
    "cov_xy = (df_filtered[\"trip_distance\"] * df_filtered[\"fare_amount\"]).sum() - (\n",
    "    df_filtered[\"trip_distance\"].sum() * df_filtered[\"fare_amount\"].sum()\n",
    ") / len(df_filtered)\n",
    "var_xy = (df_filtered[\"trip_distance\"] ** 2).sum() - df_filtered[\n",
    "    \"trip_distance\"\n",
    "].sum() ** 2 / len(df_filtered)\n",
    "beta = cov_xy / var_xy\n",
    "alpha = df_filtered[\"fare_amount\"].mean() - beta * df_filtered[\"trip_distance\"].mean()\n",
    "\n",
    "alpha\n",
    "# 4.651606864471554\n",
    "beta\n",
    "# 2.661444816924383\n",
    "end = time.time()\n",
    "print(\"Alpha: \" + str(alpha))\n",
    "print(\"Beta: \" + str(beta))\n",
    "print(\"ML Regression in Pandas: \" +str(end - start))\n",
    "# Plot and check whether it fits better this time\n",
    "sample[\"price\"] = alpha + beta * sample[\"trip_distance\"]\n",
    "ax = sample.plot.scatter(x=\"trip_distance\", y=\"fare_amount\")\n",
    "sample.plot.line(x=\"trip_distance\", y=\"price\", ax=ax, color=\"red\")"
   ]
  },
  {
   "cell_type": "markdown",
   "metadata": {
    "id": "g0ZKXzBaKS7v"
   },
   "source": [
    "Now, your task is to perform the same linear regression using both duckdb and sqlite."
   ]
  },
  {
   "cell_type": "markdown",
   "metadata": {
    "id": "IBwc6FGCySin"
   },
   "source": [
    "**SQLite**:\n",
    "Since SQLite doesn't have a function to compute the standard deviation and its a bit more complex than doing it in duckdb. We provide you with a solution that should be taken as inspiration for duckdb.\n",
    "Here you only have to implement lines 46 and 49 to generate the samples necessary to plot a sample of the data + linear regression."
   ]
  },
  {
   "cell_type": "code",
   "execution_count": 10,
   "metadata": {
    "id": "shfAO9MpyYMO"
   },
   "outputs": [
    {
     "name": "stdout",
     "output_type": "stream",
     "text": [
      "Alpha: 4.651616991535141\n",
      "Beta: 2.661441728292326\n",
      "ML Regression in SQLite: 12.11218786239624\n"
     ]
    },
    {
     "name": "stderr",
     "output_type": "stream",
     "text": [
      "/tmp/ipykernel_696/1732518398.py:59: UserWarning: pandas only supports SQLAlchemy connectable (engine/connection) or database string URI or sqlite3 DBAPI2 connection. Other DBAPI2 objects are not tested. Please consider using SQLAlchemy.\n",
      "  sqlite_df_sample = pandas.read_sql_query(sqlite_sample, sqlite_cursor)\n"
     ]
    },
    {
     "ename": "AttributeError",
     "evalue": "'sqlite3.Cursor' object has no attribute 'cursor'",
     "output_type": "error",
     "traceback": [
      "\u001b[0;31m---------------------------------------------------------------------------\u001b[0m",
      "\u001b[0;31mAttributeError\u001b[0m                            Traceback (most recent call last)",
      "Cell \u001b[0;32mIn[10], line 59\u001b[0m\n\u001b[1;32m     48\u001b[0m sqlite_sample \u001b[38;5;241m=\u001b[39m \u001b[38;5;124m\"\"\"\u001b[39m\n\u001b[1;32m     49\u001b[0m \u001b[38;5;124mSELECT trip_distance, fare_amount \u001b[39m\n\u001b[1;32m     50\u001b[0m \u001b[38;5;124mFROM yellow_tripdata_2016_01\u001b[39m\n\u001b[1;32m     51\u001b[0m \u001b[38;5;124mORDER BY RANDOM() \u001b[39m\n\u001b[1;32m     52\u001b[0m \u001b[38;5;124mLIMIT 1000;\u001b[39m\n\u001b[1;32m     53\u001b[0m \u001b[38;5;124m\"\"\"\u001b[39m\n\u001b[1;32m     54\u001b[0m \u001b[38;5;66;03m# Replace '...' above with your SQLite SQL query !\u001b[39;00m\n\u001b[1;32m     55\u001b[0m \n\u001b[1;32m     56\u001b[0m \u001b[38;5;66;03m#Get a pandas dataframe from sqlite\u001b[39;00m\n\u001b[1;32m     57\u001b[0m \u001b[38;5;66;03m#TIP : pandas has a function to transform sqlite query results to a dataframe\u001b[39;00m\n\u001b[1;32m     58\u001b[0m \u001b[38;5;66;03m# Replace '...' below with your Pandas expression !\u001b[39;00m\n\u001b[0;32m---> 59\u001b[0m sqlite_df_sample \u001b[38;5;241m=\u001b[39m \u001b[43mpandas\u001b[49m\u001b[38;5;241;43m.\u001b[39;49m\u001b[43mread_sql_query\u001b[49m\u001b[43m(\u001b[49m\u001b[43msqlite_sample\u001b[49m\u001b[43m,\u001b[49m\u001b[43m \u001b[49m\u001b[43msqlite_cursor\u001b[49m\u001b[43m)\u001b[49m\n\u001b[1;32m     60\u001b[0m \u001b[38;5;66;03m# Replace '...' above with your Pandas expression !\u001b[39;00m\n\u001b[1;32m     62\u001b[0m sqlite_df_sample[\u001b[38;5;124m\"\u001b[39m\u001b[38;5;124mprice\u001b[39m\u001b[38;5;124m\"\u001b[39m] \u001b[38;5;241m=\u001b[39m alpha \u001b[38;5;241m+\u001b[39m beta \u001b[38;5;241m*\u001b[39m sqlite_df_sample[\u001b[38;5;124m\"\u001b[39m\u001b[38;5;124mtrip_distance\u001b[39m\u001b[38;5;124m\"\u001b[39m]\n",
      "File \u001b[0;32m/opt/conda/lib/python3.11/site-packages/pandas/io/sql.py:486\u001b[0m, in \u001b[0;36mread_sql_query\u001b[0;34m(sql, con, index_col, coerce_float, params, parse_dates, chunksize, dtype, dtype_backend)\u001b[0m\n\u001b[1;32m    483\u001b[0m \u001b[38;5;28;01massert\u001b[39;00m dtype_backend \u001b[38;5;129;01mis\u001b[39;00m \u001b[38;5;129;01mnot\u001b[39;00m lib\u001b[38;5;241m.\u001b[39mno_default\n\u001b[1;32m    485\u001b[0m \u001b[38;5;28;01mwith\u001b[39;00m pandasSQL_builder(con) \u001b[38;5;28;01mas\u001b[39;00m pandas_sql:\n\u001b[0;32m--> 486\u001b[0m     \u001b[38;5;28;01mreturn\u001b[39;00m \u001b[43mpandas_sql\u001b[49m\u001b[38;5;241;43m.\u001b[39;49m\u001b[43mread_query\u001b[49m\u001b[43m(\u001b[49m\n\u001b[1;32m    487\u001b[0m \u001b[43m        \u001b[49m\u001b[43msql\u001b[49m\u001b[43m,\u001b[49m\n\u001b[1;32m    488\u001b[0m \u001b[43m        \u001b[49m\u001b[43mindex_col\u001b[49m\u001b[38;5;241;43m=\u001b[39;49m\u001b[43mindex_col\u001b[49m\u001b[43m,\u001b[49m\n\u001b[1;32m    489\u001b[0m \u001b[43m        \u001b[49m\u001b[43mparams\u001b[49m\u001b[38;5;241;43m=\u001b[39;49m\u001b[43mparams\u001b[49m\u001b[43m,\u001b[49m\n\u001b[1;32m    490\u001b[0m \u001b[43m        \u001b[49m\u001b[43mcoerce_float\u001b[49m\u001b[38;5;241;43m=\u001b[39;49m\u001b[43mcoerce_float\u001b[49m\u001b[43m,\u001b[49m\n\u001b[1;32m    491\u001b[0m \u001b[43m        \u001b[49m\u001b[43mparse_dates\u001b[49m\u001b[38;5;241;43m=\u001b[39;49m\u001b[43mparse_dates\u001b[49m\u001b[43m,\u001b[49m\n\u001b[1;32m    492\u001b[0m \u001b[43m        \u001b[49m\u001b[43mchunksize\u001b[49m\u001b[38;5;241;43m=\u001b[39;49m\u001b[43mchunksize\u001b[49m\u001b[43m,\u001b[49m\n\u001b[1;32m    493\u001b[0m \u001b[43m        \u001b[49m\u001b[43mdtype\u001b[49m\u001b[38;5;241;43m=\u001b[39;49m\u001b[43mdtype\u001b[49m\u001b[43m,\u001b[49m\n\u001b[1;32m    494\u001b[0m \u001b[43m        \u001b[49m\u001b[43mdtype_backend\u001b[49m\u001b[38;5;241;43m=\u001b[39;49m\u001b[43mdtype_backend\u001b[49m\u001b[43m,\u001b[49m\n\u001b[1;32m    495\u001b[0m \u001b[43m    \u001b[49m\u001b[43m)\u001b[49m\n",
      "File \u001b[0;32m/opt/conda/lib/python3.11/site-packages/pandas/io/sql.py:2328\u001b[0m, in \u001b[0;36mSQLiteDatabase.read_query\u001b[0;34m(self, sql, index_col, coerce_float, parse_dates, params, chunksize, dtype, dtype_backend)\u001b[0m\n\u001b[1;32m   2317\u001b[0m \u001b[38;5;28;01mdef\u001b[39;00m \u001b[38;5;21mread_query\u001b[39m(\n\u001b[1;32m   2318\u001b[0m     \u001b[38;5;28mself\u001b[39m,\n\u001b[1;32m   2319\u001b[0m     sql,\n\u001b[0;32m   (...)\u001b[0m\n\u001b[1;32m   2326\u001b[0m     dtype_backend: DtypeBackend \u001b[38;5;241m|\u001b[39m Literal[\u001b[38;5;124m\"\u001b[39m\u001b[38;5;124mnumpy\u001b[39m\u001b[38;5;124m\"\u001b[39m] \u001b[38;5;241m=\u001b[39m \u001b[38;5;124m\"\u001b[39m\u001b[38;5;124mnumpy\u001b[39m\u001b[38;5;124m\"\u001b[39m,\n\u001b[1;32m   2327\u001b[0m ) \u001b[38;5;241m-\u001b[39m\u001b[38;5;241m>\u001b[39m DataFrame \u001b[38;5;241m|\u001b[39m Iterator[DataFrame]:\n\u001b[0;32m-> 2328\u001b[0m     cursor \u001b[38;5;241m=\u001b[39m \u001b[38;5;28;43mself\u001b[39;49m\u001b[38;5;241;43m.\u001b[39;49m\u001b[43mexecute\u001b[49m\u001b[43m(\u001b[49m\u001b[43msql\u001b[49m\u001b[43m,\u001b[49m\u001b[43m \u001b[49m\u001b[43mparams\u001b[49m\u001b[43m)\u001b[49m\n\u001b[1;32m   2329\u001b[0m     columns \u001b[38;5;241m=\u001b[39m [col_desc[\u001b[38;5;241m0\u001b[39m] \u001b[38;5;28;01mfor\u001b[39;00m col_desc \u001b[38;5;129;01min\u001b[39;00m cursor\u001b[38;5;241m.\u001b[39mdescription]\n\u001b[1;32m   2331\u001b[0m     \u001b[38;5;28;01mif\u001b[39;00m chunksize \u001b[38;5;129;01mis\u001b[39;00m \u001b[38;5;129;01mnot\u001b[39;00m \u001b[38;5;28;01mNone\u001b[39;00m:\n",
      "File \u001b[0;32m/opt/conda/lib/python3.11/site-packages/pandas/io/sql.py:2262\u001b[0m, in \u001b[0;36mSQLiteDatabase.execute\u001b[0;34m(self, sql, params)\u001b[0m\n\u001b[1;32m   2260\u001b[0m     \u001b[38;5;28;01mraise\u001b[39;00m \u001b[38;5;167;01mTypeError\u001b[39;00m(\u001b[38;5;124m\"\u001b[39m\u001b[38;5;124mQuery must be a string unless using sqlalchemy.\u001b[39m\u001b[38;5;124m\"\u001b[39m)\n\u001b[1;32m   2261\u001b[0m args \u001b[38;5;241m=\u001b[39m [] \u001b[38;5;28;01mif\u001b[39;00m params \u001b[38;5;129;01mis\u001b[39;00m \u001b[38;5;28;01mNone\u001b[39;00m \u001b[38;5;28;01melse\u001b[39;00m [params]\n\u001b[0;32m-> 2262\u001b[0m cur \u001b[38;5;241m=\u001b[39m \u001b[38;5;28;43mself\u001b[39;49m\u001b[38;5;241;43m.\u001b[39;49m\u001b[43mcon\u001b[49m\u001b[38;5;241;43m.\u001b[39;49m\u001b[43mcursor\u001b[49m()\n\u001b[1;32m   2263\u001b[0m \u001b[38;5;28;01mtry\u001b[39;00m:\n\u001b[1;32m   2264\u001b[0m     cur\u001b[38;5;241m.\u001b[39mexecute(sql, \u001b[38;5;241m*\u001b[39margs)\n",
      "\u001b[0;31mAttributeError\u001b[0m: 'sqlite3.Cursor' object has no attribute 'cursor'"
     ]
    }
   ],
   "source": [
    "import math\n",
    "start = time.time()\n",
    "sqlite_cursor.execute(\"\"\"\n",
    "    SELECT\n",
    "        count(*),\n",
    "        sub.avg_fa as avg_fare,\n",
    "        sum((fare_amount - sub.avg_fa) * (fare_amount - sub.avg_fa)) as var_fare,\n",
    "        sub.avg_td as avg_distance,\n",
    "        sum((trip_distance - sub.avg_td) * (trip_distance - sub.avg_td)) as var_distance\n",
    "    FROM\n",
    "        yellow_tripdata_2016_01,\n",
    "        (\n",
    "            SELECT\n",
    "                AVG(fare_amount) as avg_fa,\n",
    "                AVG(trip_distance) as avg_td\n",
    "            FROM yellow_tripdata_2016_01\n",
    "        ) as sub\n",
    "\"\"\")\n",
    "n, avg_fare, var_fare, avg_distance, var_distance = sqlite_cursor.fetchone()\n",
    "max_fare = avg_fare + 3 * math.sqrt(var_fare / (n - 1))\n",
    "max_distance = avg_distance + 3 * math.sqrt(var_distance / (n - 1))\n",
    "max_fare, max_distance\n",
    "\n",
    "sqlite_cursor.execute(f\"\"\"\n",
    "SELECT\n",
    "    (SUM(trip_distance * fare_amount) - SUM(trip_distance) * SUM(fare_amount) / COUNT(*)) /\n",
    "    (SUM(trip_distance * trip_distance) - SUM(trip_distance) * SUM(trip_distance) / COUNT(*)) AS beta,\n",
    "    AVG(fare_amount) AS avg_fare_amount,\n",
    "    AVG(trip_distance) AS avg_trip_distance\n",
    "FROM yellow_tripdata_2016_01\n",
    "WHERE\n",
    "    fare_amount > 0 AND\n",
    "    fare_amount < {max_fare} AND\n",
    "    trip_distance > 0 AND\n",
    "    trip_distance < {max_distance}\n",
    "\"\"\")\n",
    "beta, avg_fare_amount, avg_trip_distance = sqlite_cursor.fetchone()\n",
    "alpha = avg_fare_amount - beta * avg_trip_distance\n",
    "end = time.time()\n",
    "print(\"Alpha: \" + str(alpha))\n",
    "print(\"Beta: \" + str(beta))\n",
    "print(\"ML Regression in SQLite: \" +str(end - start))\n",
    "\n",
    "\n",
    "#Get a uniform random sample (size 1000) of trip_distance and fare_amount for plotting\n",
    "#TIP : Use ORDER BY RANDOM() and Limit\n",
    "# Replace '...' below with your SQLite SQL query !\n",
    "sqlite_sample = \"\"\"\n",
    "SELECT trip_distance, fare_amount \n",
    "FROM yellow_tripdata_2016_01\n",
    "ORDER BY RANDOM() \n",
    "LIMIT 1000;\n",
    "\"\"\"\n",
    "# Replace '...' above with your SQLite SQL query !\n",
    "\n",
    "#Get a pandas dataframe from sqlite\n",
    "#TIP : pandas has a function to transform sqlite query results to a dataframe\n",
    "# Replace '...' below with your Pandas expression !\n",
    "sqlite_df_sample = pandas.read_sql_query(sqlite_sample, db_sqlite)\n",
    "# Replace '...' above with your Pandas expression !\n",
    "\n",
    "sqlite_df_sample[\"price\"] = alpha + beta * sqlite_df_sample[\"trip_distance\"]\n",
    "ax = sqlite_df_sample.plot.scatter(x=\"trip_distance\", y=\"fare_amount\")\n",
    "sqlite_df_sample.plot.line(x=\"trip_distance\", y=\"price\", ax=ax, color=\"red\")"
   ]
  },
  {
   "cell_type": "markdown",
   "metadata": {
    "id": "vmYLsxUIyQEN"
   },
   "source": [
    "**DUCKDB**\n",
    "\n",
    "*TIP: DuckDB has a STDDEV_SAMP function (i.e., function that calculates standard deviation) and thus you can do the whole regression using one query.*\n",
    "\n",
    "**Remember that alpha and beta calculated by your DuckDB solution MUST have the same values as the ones calculated by the Pandas solution above!**"
   ]
  },
  {
   "cell_type": "code",
   "execution_count": null,
   "metadata": {
    "id": "cSvOOki7Lf9W"
   },
   "outputs": [],
   "source": [
    "#Implement the regression query\n",
    "# Replace '...' below with your DuckDB SQL query !\n",
    "duck_regression = \"\"\"\n",
    "SELECT \n",
    "    covar_pop(trip_distance, fare_amount) / var_pop(trip_distance) AS beta,\n",
    "    mean(fare_amount) AS avg_fare_amount,\n",
    "    mean(trip_distance) AS avg_trip_distance\n",
    "    \n",
    "FROM (\n",
    "    SELECT\n",
    "        trip_distance, \n",
    "        fare_amount\n",
    "    FROM yellow_tripdata_2016_01\n",
    "    WHERE \n",
    "        trip_distance > 0 AND trip_distance < (\n",
    "            SELECT mean(trip_distance) + 3 * stddev(trip_distance) FROM yellow_tripdata_2016_01\n",
    "        )\n",
    "        AND fare_amount > 0 AND fare_amount < (\n",
    "            SELECT mean(fare_amount) + 3 * stddev(fare_amount) FROM yellow_tripdata_2016_01\n",
    "        )\n",
    "    );\n",
    "\"\"\"\n",
    "# Replace '...' above with your DuckDB SQL query !\n",
    "\n",
    "start = time.time()\n",
    "duck_cursor.execute(duck_regression)\n",
    "#Get the values from beta and alpha from the query (replace ... for code):\n",
    "# Replace '...' below with your DuckDB Python expression !\n",
    "beta, avg_fare_amount, avg_trip_distance = duck_cursor.fetchone()\n",
    "# Replace '...' above with your DuckDB Python expression !\n",
    "alpha = avg_fare_amount - beta * avg_trip_distance\n",
    "end = time.time()\n",
    "print(\"Alpha: \" + str(alpha))\n",
    "print(\"Beta: \" + str(beta))\n",
    "print(\"ML Regression in DuckDB: \" +str(end - start))\n",
    "#Get a uniform random sample (size 1000) of trip_distance and fare_amount for plotting\n",
    "#TIP : Use ORDER BY RANDOM() and Limit\n",
    "# Replace '...' below with your DuckDB SQL query !\n",
    "duck_sample = \"\"\"\n",
    "SELECT trip_distance, fare_amount \n",
    "FROM yellow_tripdata_2016_01\n",
    "ORDER BY RANDOM() \n",
    "LIMIT 1000;\n",
    "\"\"\"\n",
    "# Replace '...' above with your DuckDB SQL query !\n",
    "\n",
    "#Get a pandas dataframe from duckdb\n",
    "#TIP : duckdb python's client has a function to transform query results to a dataframe\n",
    "# Replace '...' below with your DuckDB Python expression !\n",
    "duck_df_sample = db.sql(duck_sample).df()\n",
    "# Replace '...' above with your DuckDB Python expression !\n",
    "\n",
    "duck_df_sample[\"price\"] = alpha + beta * duck_df_sample[\"trip_distance\"]\n",
    "ax = duck_df_sample.plot.scatter(x=\"trip_distance\", y=\"fare_amount\")\n",
    "duck_df_sample.plot.line(x=\"trip_distance\", y=\"price\", ax=ax, color=\"red\")"
   ]
  }
 ],
 "metadata": {
  "colab": {
   "provenance": []
  },
  "kernelspec": {
   "display_name": "Python 3 (ipykernel)",
   "language": "python",
   "name": "python3"
  },
  "language_info": {
   "codemirror_mode": {
    "name": "ipython",
    "version": 3
   },
   "file_extension": ".py",
   "mimetype": "text/x-python",
   "name": "python",
   "nbconvert_exporter": "python",
   "pygments_lexer": "ipython3",
   "version": "3.11.6"
  }
 },
 "nbformat": 4,
 "nbformat_minor": 4
}
